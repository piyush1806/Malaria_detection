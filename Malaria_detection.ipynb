{
  "nbformat": 4,
  "nbformat_minor": 0,
  "metadata": {
    "colab": {
      "name": "Malaria_detection.ipynb",
      "provenance": [],
      "collapsed_sections": [],
      "toc_visible": true
    },
    "kernelspec": {
      "name": "python3",
      "display_name": "Python 3"
    },
    "accelerator": "GPU"
  },
  "cells": [
    {
      "cell_type": "code",
      "metadata": {
        "id": "J5yEEmP-k4EB",
        "colab_type": "code",
        "colab": {}
      },
      "source": [
        "from tensorflow.keras.layers import Input, Lambda, Dense, Flatten,Conv2D\n",
        "from tensorflow.keras.models import Model\n",
        "from tensorflow.keras.applications.vgg19 import VGG19\n",
        "from tensorflow.keras.applications.resnet50 import preprocess_input\n",
        "from tensorflow.keras.preprocessing import image\n",
        "from tensorflow.keras.preprocessing.image import ImageDataGenerator,load_img\n",
        "from tensorflow.keras.models import Sequential\n",
        "import numpy as np\n",
        "from glob import glob\n",
        "import matplotlib.pyplot as plt"
      ],
      "execution_count": null,
      "outputs": []
    },
    {
      "cell_type": "code",
      "metadata": {
        "id": "YMRExrjCk7bv",
        "colab_type": "code",
        "colab": {}
      },
      "source": [
        "IMAGE_SIZE = [224, 224]\n",
        "\n",
        "train_path = '/content/drive/My Drive/Dataset/Train'\n",
        "valid_path = '/content/drive/My Drive/Dataset/Test'"
      ],
      "execution_count": null,
      "outputs": []
    },
    {
      "cell_type": "code",
      "metadata": {
        "id": "3css04W6lUFd",
        "colab_type": "code",
        "colab": {
          "base_uri": "https://localhost:8080/",
          "height": 71
        },
        "outputId": "6e4c4321-f190-483e-9e71-aa6a63b56def"
      },
      "source": [
        "# Import the Vgg 16 library as shown below and add preprocessing layer to the front of VGG\n",
        "# Here we will be using imagenet weights\n",
        "\n",
        "mobilnet = VGG19(input_shape=IMAGE_SIZE + [3], weights='imagenet', include_top=False)"
      ],
      "execution_count": null,
      "outputs": [
        {
          "output_type": "stream",
          "text": [
            "Downloading data from https://storage.googleapis.com/tensorflow/keras-applications/vgg19/vgg19_weights_tf_dim_ordering_tf_kernels_notop.h5\n",
            "80142336/80134624 [==============================] - 2s 0us/step\n"
          ],
          "name": "stdout"
        }
      ]
    },
    {
      "cell_type": "code",
      "metadata": {
        "id": "Alf5oTcgmCcE",
        "colab_type": "code",
        "colab": {
          "base_uri": "https://localhost:8080/",
          "height": 901
        },
        "outputId": "626a3e49-d42b-4d0f-e6af-e47f4217d615"
      },
      "source": [
        "mobilnet.summary()"
      ],
      "execution_count": null,
      "outputs": [
        {
          "output_type": "stream",
          "text": [
            "Model: \"vgg19\"\n",
            "_________________________________________________________________\n",
            "Layer (type)                 Output Shape              Param #   \n",
            "=================================================================\n",
            "input_1 (InputLayer)         [(None, 224, 224, 3)]     0         \n",
            "_________________________________________________________________\n",
            "block1_conv1 (Conv2D)        (None, 224, 224, 64)      1792      \n",
            "_________________________________________________________________\n",
            "block1_conv2 (Conv2D)        (None, 224, 224, 64)      36928     \n",
            "_________________________________________________________________\n",
            "block1_pool (MaxPooling2D)   (None, 112, 112, 64)      0         \n",
            "_________________________________________________________________\n",
            "block2_conv1 (Conv2D)        (None, 112, 112, 128)     73856     \n",
            "_________________________________________________________________\n",
            "block2_conv2 (Conv2D)        (None, 112, 112, 128)     147584    \n",
            "_________________________________________________________________\n",
            "block2_pool (MaxPooling2D)   (None, 56, 56, 128)       0         \n",
            "_________________________________________________________________\n",
            "block3_conv1 (Conv2D)        (None, 56, 56, 256)       295168    \n",
            "_________________________________________________________________\n",
            "block3_conv2 (Conv2D)        (None, 56, 56, 256)       590080    \n",
            "_________________________________________________________________\n",
            "block3_conv3 (Conv2D)        (None, 56, 56, 256)       590080    \n",
            "_________________________________________________________________\n",
            "block3_conv4 (Conv2D)        (None, 56, 56, 256)       590080    \n",
            "_________________________________________________________________\n",
            "block3_pool (MaxPooling2D)   (None, 28, 28, 256)       0         \n",
            "_________________________________________________________________\n",
            "block4_conv1 (Conv2D)        (None, 28, 28, 512)       1180160   \n",
            "_________________________________________________________________\n",
            "block4_conv2 (Conv2D)        (None, 28, 28, 512)       2359808   \n",
            "_________________________________________________________________\n",
            "block4_conv3 (Conv2D)        (None, 28, 28, 512)       2359808   \n",
            "_________________________________________________________________\n",
            "block4_conv4 (Conv2D)        (None, 28, 28, 512)       2359808   \n",
            "_________________________________________________________________\n",
            "block4_pool (MaxPooling2D)   (None, 14, 14, 512)       0         \n",
            "_________________________________________________________________\n",
            "block5_conv1 (Conv2D)        (None, 14, 14, 512)       2359808   \n",
            "_________________________________________________________________\n",
            "block5_conv2 (Conv2D)        (None, 14, 14, 512)       2359808   \n",
            "_________________________________________________________________\n",
            "block5_conv3 (Conv2D)        (None, 14, 14, 512)       2359808   \n",
            "_________________________________________________________________\n",
            "block5_conv4 (Conv2D)        (None, 14, 14, 512)       2359808   \n",
            "_________________________________________________________________\n",
            "block5_pool (MaxPooling2D)   (None, 7, 7, 512)         0         \n",
            "=================================================================\n",
            "Total params: 20,024,384\n",
            "Trainable params: 20,024,384\n",
            "Non-trainable params: 0\n",
            "_________________________________________________________________\n"
          ],
          "name": "stdout"
        }
      ]
    },
    {
      "cell_type": "code",
      "metadata": {
        "id": "xf4EpOogmZoj",
        "colab_type": "code",
        "colab": {}
      },
      "source": [
        "# don't train existing weights\n",
        "for layer in mobilnet.layers:\n",
        "    layer.trainable = False"
      ],
      "execution_count": null,
      "outputs": []
    },
    {
      "cell_type": "code",
      "metadata": {
        "id": "xKYSv5sQm56e",
        "colab_type": "code",
        "colab": {}
      },
      "source": [
        "# useful for getting number of output classes\n",
        "folders = glob('/content/drive/My Drive/Dataset/Train/*')"
      ],
      "execution_count": null,
      "outputs": []
    },
    {
      "cell_type": "code",
      "metadata": {
        "id": "0b1tKfBQnRiW",
        "colab_type": "code",
        "colab": {
          "base_uri": "https://localhost:8080/",
          "height": 51
        },
        "outputId": "a951329d-d3f2-420d-f32d-0841f290bc70"
      },
      "source": [
        "folders"
      ],
      "execution_count": null,
      "outputs": [
        {
          "output_type": "execute_result",
          "data": {
            "text/plain": [
              "['/content/drive/My Drive/Dataset/Train/Parasite',\n",
              " '/content/drive/My Drive/Dataset/Train/Uninfected']"
            ]
          },
          "metadata": {
            "tags": []
          },
          "execution_count": 7
        }
      ]
    },
    {
      "cell_type": "code",
      "metadata": {
        "id": "L9xssWE-nfvH",
        "colab_type": "code",
        "colab": {}
      },
      "source": [
        "\n",
        "# our layers - you can add more if you want\n",
        "x = Flatten()(mobilnet.output)"
      ],
      "execution_count": null,
      "outputs": []
    },
    {
      "cell_type": "code",
      "metadata": {
        "id": "isPu3fAentaV",
        "colab_type": "code",
        "colab": {}
      },
      "source": [
        "prediction = Dense(len(folders), activation='softmax')(x)\n",
        "\n",
        "# create a model object\n",
        "model = Model(inputs=mobilnet.input, outputs=prediction)"
      ],
      "execution_count": null,
      "outputs": []
    },
    {
      "cell_type": "code",
      "metadata": {
        "id": "B7ZTDmUbnyyB",
        "colab_type": "code",
        "colab": {
          "base_uri": "https://localhost:8080/",
          "height": 969
        },
        "outputId": "f464f328-dea7-43ee-c468-90edffea4482"
      },
      "source": [
        "# view the structure of the model\n",
        "model.summary()\n"
      ],
      "execution_count": null,
      "outputs": [
        {
          "output_type": "stream",
          "text": [
            "Model: \"model\"\n",
            "_________________________________________________________________\n",
            "Layer (type)                 Output Shape              Param #   \n",
            "=================================================================\n",
            "input_1 (InputLayer)         [(None, 224, 224, 3)]     0         \n",
            "_________________________________________________________________\n",
            "block1_conv1 (Conv2D)        (None, 224, 224, 64)      1792      \n",
            "_________________________________________________________________\n",
            "block1_conv2 (Conv2D)        (None, 224, 224, 64)      36928     \n",
            "_________________________________________________________________\n",
            "block1_pool (MaxPooling2D)   (None, 112, 112, 64)      0         \n",
            "_________________________________________________________________\n",
            "block2_conv1 (Conv2D)        (None, 112, 112, 128)     73856     \n",
            "_________________________________________________________________\n",
            "block2_conv2 (Conv2D)        (None, 112, 112, 128)     147584    \n",
            "_________________________________________________________________\n",
            "block2_pool (MaxPooling2D)   (None, 56, 56, 128)       0         \n",
            "_________________________________________________________________\n",
            "block3_conv1 (Conv2D)        (None, 56, 56, 256)       295168    \n",
            "_________________________________________________________________\n",
            "block3_conv2 (Conv2D)        (None, 56, 56, 256)       590080    \n",
            "_________________________________________________________________\n",
            "block3_conv3 (Conv2D)        (None, 56, 56, 256)       590080    \n",
            "_________________________________________________________________\n",
            "block3_conv4 (Conv2D)        (None, 56, 56, 256)       590080    \n",
            "_________________________________________________________________\n",
            "block3_pool (MaxPooling2D)   (None, 28, 28, 256)       0         \n",
            "_________________________________________________________________\n",
            "block4_conv1 (Conv2D)        (None, 28, 28, 512)       1180160   \n",
            "_________________________________________________________________\n",
            "block4_conv2 (Conv2D)        (None, 28, 28, 512)       2359808   \n",
            "_________________________________________________________________\n",
            "block4_conv3 (Conv2D)        (None, 28, 28, 512)       2359808   \n",
            "_________________________________________________________________\n",
            "block4_conv4 (Conv2D)        (None, 28, 28, 512)       2359808   \n",
            "_________________________________________________________________\n",
            "block4_pool (MaxPooling2D)   (None, 14, 14, 512)       0         \n",
            "_________________________________________________________________\n",
            "block5_conv1 (Conv2D)        (None, 14, 14, 512)       2359808   \n",
            "_________________________________________________________________\n",
            "block5_conv2 (Conv2D)        (None, 14, 14, 512)       2359808   \n",
            "_________________________________________________________________\n",
            "block5_conv3 (Conv2D)        (None, 14, 14, 512)       2359808   \n",
            "_________________________________________________________________\n",
            "block5_conv4 (Conv2D)        (None, 14, 14, 512)       2359808   \n",
            "_________________________________________________________________\n",
            "block5_pool (MaxPooling2D)   (None, 7, 7, 512)         0         \n",
            "_________________________________________________________________\n",
            "flatten (Flatten)            (None, 25088)             0         \n",
            "_________________________________________________________________\n",
            "dense (Dense)                (None, 2)                 50178     \n",
            "=================================================================\n",
            "Total params: 20,074,562\n",
            "Trainable params: 50,178\n",
            "Non-trainable params: 20,024,384\n",
            "_________________________________________________________________\n"
          ],
          "name": "stdout"
        }
      ]
    },
    {
      "cell_type": "code",
      "metadata": {
        "id": "EbrjGtQ2oQcp",
        "colab_type": "code",
        "colab": {}
      },
      "source": [
        "from tensorflow.keras.layers import MaxPooling2D"
      ],
      "execution_count": null,
      "outputs": []
    },
    {
      "cell_type": "code",
      "metadata": {
        "id": "OJQ3p_wAoVCt",
        "colab_type": "code",
        "colab": {
          "base_uri": "https://localhost:8080/",
          "height": 459
        },
        "outputId": "67aab87a-d42d-45a1-e12e-f5a8a8b215ec"
      },
      "source": [
        "### Create Model from scratch using CNN\n",
        "model=Sequential()\n",
        "model.add(Conv2D(filters=16,kernel_size=2,padding=\"same\",activation=\"relu\",input_shape=(224,224,3)))\n",
        "model.add(MaxPooling2D(pool_size=2))\n",
        "model.add(Conv2D(filters=32,kernel_size=2,padding=\"same\",activation =\"relu\"))\n",
        "model.add(MaxPooling2D(pool_size=2))\n",
        "model.add(Conv2D(filters=64,kernel_size=2,padding=\"same\",activation=\"relu\"))\n",
        "model.add(MaxPooling2D(pool_size=2))\n",
        "model.add(Flatten())\n",
        "model.add(Dense(500,activation=\"relu\"))\n",
        "model.add(Dense(2,activation=\"softmax\"))\n",
        "model.summary()"
      ],
      "execution_count": null,
      "outputs": [
        {
          "output_type": "stream",
          "text": [
            "Model: \"sequential\"\n",
            "_________________________________________________________________\n",
            "Layer (type)                 Output Shape              Param #   \n",
            "=================================================================\n",
            "conv2d (Conv2D)              (None, 224, 224, 16)      208       \n",
            "_________________________________________________________________\n",
            "max_pooling2d (MaxPooling2D) (None, 112, 112, 16)      0         \n",
            "_________________________________________________________________\n",
            "conv2d_1 (Conv2D)            (None, 112, 112, 32)      2080      \n",
            "_________________________________________________________________\n",
            "max_pooling2d_1 (MaxPooling2 (None, 56, 56, 32)        0         \n",
            "_________________________________________________________________\n",
            "conv2d_2 (Conv2D)            (None, 56, 56, 64)        8256      \n",
            "_________________________________________________________________\n",
            "max_pooling2d_2 (MaxPooling2 (None, 28, 28, 64)        0         \n",
            "_________________________________________________________________\n",
            "flatten_1 (Flatten)          (None, 50176)             0         \n",
            "_________________________________________________________________\n",
            "dense_1 (Dense)              (None, 500)               25088500  \n",
            "_________________________________________________________________\n",
            "dense_2 (Dense)              (None, 2)                 1002      \n",
            "=================================================================\n",
            "Total params: 25,100,046\n",
            "Trainable params: 25,100,046\n",
            "Non-trainable params: 0\n",
            "_________________________________________________________________\n"
          ],
          "name": "stdout"
        }
      ]
    },
    {
      "cell_type": "code",
      "metadata": {
        "id": "4Vna3FsQoXF2",
        "colab_type": "code",
        "colab": {}
      },
      "source": [
        "# tell the model what cost and optimization method to use\n",
        "model.compile(\n",
        "  loss='categorical_crossentropy',\n",
        "  optimizer='adam',\n",
        "  metrics=['accuracy']\n",
        ")"
      ],
      "execution_count": null,
      "outputs": []
    },
    {
      "cell_type": "code",
      "metadata": {
        "id": "_Lg5wlgco2Ne",
        "colab_type": "code",
        "colab": {}
      },
      "source": [
        "# Use the Image Data Generator to import the images from the dataset\n",
        "from tensorflow.keras.preprocessing.image import ImageDataGenerator\n",
        "\n",
        "train_datagen = ImageDataGenerator(rescale = 1./255,\n",
        "                                   shear_range = 0.2,\n",
        "                                   zoom_range = 0.2,\n",
        "                                   horizontal_flip = True)\n",
        "\n",
        "test_datagen = ImageDataGenerator(rescale = 1./255)"
      ],
      "execution_count": null,
      "outputs": []
    },
    {
      "cell_type": "code",
      "metadata": {
        "id": "bwy55bGko55m",
        "colab_type": "code",
        "colab": {
          "base_uri": "https://localhost:8080/",
          "height": 34
        },
        "outputId": "63571b64-ddc2-4d2f-a6c1-ebc1a1eb7220"
      },
      "source": [
        "training_set = train_datagen.flow_from_directory('/content/drive/My Drive/Dataset/Train',\n",
        "                                                 target_size = (224, 224),\n",
        "                                                 batch_size = 32,\n",
        "                                                 class_mode = 'categorical')"
      ],
      "execution_count": null,
      "outputs": [
        {
          "output_type": "stream",
          "text": [
            "Found 416 images belonging to 2 classes.\n"
          ],
          "name": "stdout"
        }
      ]
    },
    {
      "cell_type": "code",
      "metadata": {
        "id": "MZCSlr3kstv5",
        "colab_type": "code",
        "colab": {
          "base_uri": "https://localhost:8080/",
          "height": 34
        },
        "outputId": "a1b7cb0c-7a3c-4a53-941f-670caf628f0d"
      },
      "source": [
        "test_set = test_datagen.flow_from_directory('/content/drive/My Drive/Dataset/Test',\n",
        "                                            target_size = (224, 224),\n",
        "                                            batch_size = 32,\n",
        "                                            class_mode = 'categorical')"
      ],
      "execution_count": null,
      "outputs": [
        {
          "output_type": "stream",
          "text": [
            "Found 134 images belonging to 2 classes.\n"
          ],
          "name": "stdout"
        }
      ]
    },
    {
      "cell_type": "code",
      "metadata": {
        "id": "LdRqqcNitQWA",
        "colab_type": "code",
        "colab": {
          "base_uri": "https://localhost:8080/",
          "height": 1000
        },
        "outputId": "63776b9f-ec6b-4e7d-ef2c-d341638ef1b2"
      },
      "source": [
        "r = model.fit_generator(\n",
        "  training_set,\n",
        "  validation_data=test_set,\n",
        "  epochs=50,\n",
        "  steps_per_epoch=len(training_set),\n",
        "  validation_steps=len(test_set)\n",
        ")"
      ],
      "execution_count": null,
      "outputs": [
        {
          "output_type": "stream",
          "text": [
            "WARNING:tensorflow:From <ipython-input-17-070b10e8c207>:6: Model.fit_generator (from tensorflow.python.keras.engine.training) is deprecated and will be removed in a future version.\n",
            "Instructions for updating:\n",
            "Please use Model.fit, which supports generators.\n",
            "Epoch 1/50\n",
            "13/13 [==============================] - 295s 23s/step - loss: 1.6579 - accuracy: 0.4808 - val_loss: 0.6394 - val_accuracy: 0.6791\n",
            "Epoch 2/50\n",
            "13/13 [==============================] - 5s 410ms/step - loss: 0.6990 - accuracy: 0.4760 - val_loss: 0.7188 - val_accuracy: 0.3433\n",
            "Epoch 3/50\n",
            "13/13 [==============================] - 5s 404ms/step - loss: 0.6838 - accuracy: 0.5312 - val_loss: 0.6868 - val_accuracy: 0.5448\n",
            "Epoch 4/50\n",
            "13/13 [==============================] - 5s 404ms/step - loss: 0.6356 - accuracy: 0.7260 - val_loss: 0.7199 - val_accuracy: 0.3657\n",
            "Epoch 5/50\n",
            "13/13 [==============================] - 5s 404ms/step - loss: 0.6153 - accuracy: 0.6514 - val_loss: 0.7223 - val_accuracy: 0.4254\n",
            "Epoch 6/50\n",
            "13/13 [==============================] - 5s 408ms/step - loss: 0.5539 - accuracy: 0.7163 - val_loss: 0.7615 - val_accuracy: 0.4179\n",
            "Epoch 7/50\n",
            "13/13 [==============================] - 5s 405ms/step - loss: 0.5025 - accuracy: 0.7428 - val_loss: 0.9773 - val_accuracy: 0.3955\n",
            "Epoch 8/50\n",
            "13/13 [==============================] - 5s 403ms/step - loss: 0.4514 - accuracy: 0.7909 - val_loss: 0.9662 - val_accuracy: 0.4030\n",
            "Epoch 9/50\n",
            "13/13 [==============================] - 5s 401ms/step - loss: 0.4262 - accuracy: 0.7933 - val_loss: 0.7876 - val_accuracy: 0.4328\n",
            "Epoch 10/50\n",
            "13/13 [==============================] - 5s 407ms/step - loss: 0.3795 - accuracy: 0.8293 - val_loss: 1.0726 - val_accuracy: 0.4254\n",
            "Epoch 11/50\n",
            "13/13 [==============================] - 5s 408ms/step - loss: 0.4097 - accuracy: 0.8101 - val_loss: 0.6504 - val_accuracy: 0.5896\n",
            "Epoch 12/50\n",
            "13/13 [==============================] - 5s 402ms/step - loss: 0.3456 - accuracy: 0.8654 - val_loss: 1.1354 - val_accuracy: 0.4104\n",
            "Epoch 13/50\n",
            "13/13 [==============================] - 5s 402ms/step - loss: 0.3698 - accuracy: 0.8438 - val_loss: 0.6297 - val_accuracy: 0.6269\n",
            "Epoch 14/50\n",
            "13/13 [==============================] - 5s 399ms/step - loss: 0.2791 - accuracy: 0.9062 - val_loss: 0.6556 - val_accuracy: 0.6194\n",
            "Epoch 15/50\n",
            "13/13 [==============================] - 5s 399ms/step - loss: 0.2534 - accuracy: 0.9087 - val_loss: 0.5959 - val_accuracy: 0.6716\n",
            "Epoch 16/50\n",
            "13/13 [==============================] - 5s 396ms/step - loss: 0.2276 - accuracy: 0.9183 - val_loss: 0.4927 - val_accuracy: 0.7463\n",
            "Epoch 17/50\n",
            "13/13 [==============================] - 5s 394ms/step - loss: 0.1929 - accuracy: 0.9351 - val_loss: 0.5732 - val_accuracy: 0.7015\n",
            "Epoch 18/50\n",
            "13/13 [==============================] - 5s 398ms/step - loss: 0.1756 - accuracy: 0.9495 - val_loss: 0.4597 - val_accuracy: 0.7761\n",
            "Epoch 19/50\n",
            "13/13 [==============================] - 5s 398ms/step - loss: 0.1462 - accuracy: 0.9495 - val_loss: 0.3723 - val_accuracy: 0.8358\n",
            "Epoch 20/50\n",
            "13/13 [==============================] - 5s 397ms/step - loss: 0.1597 - accuracy: 0.9471 - val_loss: 0.4185 - val_accuracy: 0.7687\n",
            "Epoch 21/50\n",
            "13/13 [==============================] - 5s 394ms/step - loss: 0.1520 - accuracy: 0.9519 - val_loss: 0.4437 - val_accuracy: 0.8060\n",
            "Epoch 22/50\n",
            "13/13 [==============================] - 5s 395ms/step - loss: 0.1355 - accuracy: 0.9495 - val_loss: 0.3282 - val_accuracy: 0.8284\n",
            "Epoch 23/50\n",
            "13/13 [==============================] - 5s 391ms/step - loss: 0.1172 - accuracy: 0.9688 - val_loss: 0.3990 - val_accuracy: 0.8134\n",
            "Epoch 24/50\n",
            "13/13 [==============================] - 5s 393ms/step - loss: 0.0911 - accuracy: 0.9688 - val_loss: 0.3264 - val_accuracy: 0.8806\n",
            "Epoch 25/50\n",
            "13/13 [==============================] - 5s 389ms/step - loss: 0.1169 - accuracy: 0.9639 - val_loss: 0.7611 - val_accuracy: 0.6866\n",
            "Epoch 26/50\n",
            "13/13 [==============================] - 5s 389ms/step - loss: 0.1678 - accuracy: 0.9495 - val_loss: 0.4619 - val_accuracy: 0.8060\n",
            "Epoch 27/50\n",
            "13/13 [==============================] - 5s 389ms/step - loss: 0.1244 - accuracy: 0.9543 - val_loss: 0.3488 - val_accuracy: 0.8731\n",
            "Epoch 28/50\n",
            "13/13 [==============================] - 5s 389ms/step - loss: 0.0992 - accuracy: 0.9615 - val_loss: 0.4012 - val_accuracy: 0.8209\n",
            "Epoch 29/50\n",
            "13/13 [==============================] - 5s 391ms/step - loss: 0.1135 - accuracy: 0.9639 - val_loss: 0.3460 - val_accuracy: 0.8806\n",
            "Epoch 30/50\n",
            "13/13 [==============================] - 5s 388ms/step - loss: 0.1122 - accuracy: 0.9712 - val_loss: 0.5860 - val_accuracy: 0.8134\n",
            "Epoch 31/50\n",
            "13/13 [==============================] - 5s 389ms/step - loss: 0.1452 - accuracy: 0.9712 - val_loss: 0.5190 - val_accuracy: 0.8209\n",
            "Epoch 32/50\n",
            "13/13 [==============================] - 5s 387ms/step - loss: 0.0965 - accuracy: 0.9712 - val_loss: 0.2702 - val_accuracy: 0.8806\n",
            "Epoch 33/50\n",
            "13/13 [==============================] - 5s 398ms/step - loss: 0.0705 - accuracy: 0.9784 - val_loss: 0.3456 - val_accuracy: 0.8731\n",
            "Epoch 34/50\n",
            "13/13 [==============================] - 5s 416ms/step - loss: 0.1176 - accuracy: 0.9543 - val_loss: 0.3857 - val_accuracy: 0.8507\n",
            "Epoch 35/50\n",
            "13/13 [==============================] - 5s 395ms/step - loss: 0.0899 - accuracy: 0.9712 - val_loss: 0.4113 - val_accuracy: 0.8582\n",
            "Epoch 36/50\n",
            "13/13 [==============================] - 5s 386ms/step - loss: 0.0750 - accuracy: 0.9760 - val_loss: 0.9648 - val_accuracy: 0.7836\n",
            "Epoch 37/50\n",
            "13/13 [==============================] - 5s 388ms/step - loss: 0.1400 - accuracy: 0.9567 - val_loss: 0.2884 - val_accuracy: 0.8657\n",
            "Epoch 38/50\n",
            "13/13 [==============================] - 5s 386ms/step - loss: 0.0811 - accuracy: 0.9856 - val_loss: 0.2210 - val_accuracy: 0.8881\n",
            "Epoch 39/50\n",
            "13/13 [==============================] - 5s 389ms/step - loss: 0.0676 - accuracy: 0.9760 - val_loss: 0.3943 - val_accuracy: 0.8731\n",
            "Epoch 40/50\n",
            "13/13 [==============================] - 5s 391ms/step - loss: 0.0457 - accuracy: 0.9904 - val_loss: 0.2411 - val_accuracy: 0.9328\n",
            "Epoch 41/50\n",
            "13/13 [==============================] - 5s 385ms/step - loss: 0.0663 - accuracy: 0.9808 - val_loss: 0.3883 - val_accuracy: 0.8806\n",
            "Epoch 42/50\n",
            "13/13 [==============================] - 5s 386ms/step - loss: 0.0542 - accuracy: 0.9904 - val_loss: 0.2947 - val_accuracy: 0.8881\n",
            "Epoch 43/50\n",
            "13/13 [==============================] - 5s 387ms/step - loss: 0.0601 - accuracy: 0.9832 - val_loss: 0.2839 - val_accuracy: 0.8881\n",
            "Epoch 44/50\n",
            "13/13 [==============================] - 5s 384ms/step - loss: 0.0440 - accuracy: 0.9928 - val_loss: 0.3617 - val_accuracy: 0.8806\n",
            "Epoch 45/50\n",
            "13/13 [==============================] - 5s 388ms/step - loss: 0.0399 - accuracy: 0.9856 - val_loss: 0.3050 - val_accuracy: 0.8881\n",
            "Epoch 46/50\n",
            "13/13 [==============================] - 5s 386ms/step - loss: 0.0449 - accuracy: 0.9856 - val_loss: 0.2657 - val_accuracy: 0.8955\n",
            "Epoch 47/50\n",
            "13/13 [==============================] - 5s 385ms/step - loss: 0.0551 - accuracy: 0.9736 - val_loss: 0.1762 - val_accuracy: 0.9552\n",
            "Epoch 48/50\n",
            "13/13 [==============================] - 5s 383ms/step - loss: 0.0488 - accuracy: 0.9856 - val_loss: 0.4467 - val_accuracy: 0.8806\n",
            "Epoch 49/50\n",
            "13/13 [==============================] - 5s 390ms/step - loss: 0.0468 - accuracy: 0.9856 - val_loss: 0.2009 - val_accuracy: 0.9254\n",
            "Epoch 50/50\n",
            "13/13 [==============================] - 5s 390ms/step - loss: 0.0343 - accuracy: 0.9928 - val_loss: 0.3917 - val_accuracy: 0.8881\n"
          ],
          "name": "stdout"
        }
      ]
    },
    {
      "cell_type": "code",
      "metadata": {
        "id": "geL7T7-2tmDA",
        "colab_type": "code",
        "colab": {
          "base_uri": "https://localhost:8080/",
          "height": 530
        },
        "outputId": "96cc9509-5e83-46d4-8080-3856663b827b"
      },
      "source": [
        "# plot the loss\n",
        "plt.plot(r.history['loss'], label='train loss')\n",
        "plt.plot(r.history['val_loss'], label='val loss')\n",
        "plt.legend()\n",
        "plt.show()\n",
        "plt.savefig('LossVal_loss')\n",
        "\n",
        "# plot the accuracy\n",
        "plt.plot(r.history['accuracy'], label='train acc')\n",
        "plt.plot(r.history['val_accuracy'], label='val acc')\n",
        "plt.legend()\n",
        "plt.show()\n",
        "plt.savefig('AccVal_acc')"
      ],
      "execution_count": null,
      "outputs": [
        {
          "output_type": "display_data",
          "data": {
            "image/png": "[encoded data removed]",
            "text/plain": [
              "<Figure size 432x288 with 1 Axes>"
            ]
          },
          "metadata": {
            "tags": [],
            "needs_background": "light"
          }
        },
        {
          "output_type": "display_data",
          "data": {
            "image/png": "[encoded data removed]",
            "text/plain": [
              "<Figure size 432x288 with 1 Axes>"
            ]
          },
          "metadata": {
            "tags": [],
            "needs_background": "light"
          }
        },
        {
          "output_type": "display_data",
          "data": {
            "text/plain": [
              "<Figure size 432x288 with 0 Axes>"
            ]
          },
          "metadata": {
            "tags": []
          }
        }
      ]
    },
    {
      "cell_type": "code",
      "metadata": {
        "id": "8PjQ7hINxlFx",
        "colab_type": "code",
        "colab": {}
      },
      "source": [
        "from tensorflow.keras.models import load_model\n",
        "\n",
        "model.save('model_vgg19.h5')"
      ],
      "execution_count": null,
      "outputs": []
    },
    {
      "cell_type": "code",
      "metadata": {
        "id": "P_MvChWVz04J",
        "colab_type": "code",
        "colab": {}
      },
      "source": [
        "y_pred = model.predict(test_set)"
      ],
      "execution_count": null,
      "outputs": []
    },
    {
      "cell_type": "code",
      "metadata": {
        "id": "CUEu42d90ENC",
        "colab_type": "code",
        "colab": {
          "base_uri": "https://localhost:8080/",
          "height": 1000
        },
        "outputId": "cfed1b99-f0e9-411d-ba33-ebccb9442b35"
      },
      "source": [
        "\n",
        "y_pred"
      ],
      "execution_count": null,
      "outputs": [
        {
          "output_type": "execute_result",
          "data": {
            "text/plain": [
              "array([[9.93221283e-01, 6.77872170e-03],\n",
              "       [1.07332375e-02, 9.89266753e-01],\n",
              "       [6.20367285e-03, 9.93796349e-01],\n",
              "       [9.99991417e-01, 8.57349642e-06],\n",
              "       [9.99528050e-01, 4.71922744e-04],\n",
              "       [9.99738157e-01, 2.61841371e-04],\n",
              "       [6.12121681e-03, 9.93878782e-01],\n",
              "       [9.99999642e-01, 4.15336814e-07],\n",
              "       [5.44237234e-02, 9.45576251e-01],\n",
              "       [9.99785960e-01, 2.14058295e-04],\n",
              "       [8.98355782e-01, 1.01644203e-01],\n",
              "       [3.69811454e-03, 9.96301889e-01],\n",
              "       [3.06191370e-02, 9.69380856e-01],\n",
              "       [1.60848396e-03, 9.98391449e-01],\n",
              "       [9.62552149e-03, 9.90374565e-01],\n",
              "       [2.45595584e-03, 9.97543991e-01],\n",
              "       [1.63422376e-02, 9.83657777e-01],\n",
              "       [9.99435127e-01, 5.64884103e-04],\n",
              "       [9.99745667e-01, 2.54371698e-04],\n",
              "       [9.91041839e-01, 8.95821024e-03],\n",
              "       [9.99990344e-01, 9.65894833e-06],\n",
              "       [1.00000000e+00, 4.89267755e-08],\n",
              "       [9.35505629e-01, 6.44943863e-02],\n",
              "       [2.62658838e-02, 9.73734081e-01],\n",
              "       [2.49996711e-03, 9.97500002e-01],\n",
              "       [5.09737479e-03, 9.94902611e-01],\n",
              "       [1.55276448e-01, 8.44723523e-01],\n",
              "       [9.99674201e-01, 3.25818895e-04],\n",
              "       [9.99848366e-01, 1.51601183e-04],\n",
              "       [9.99995708e-01, 4.33555078e-06],\n",
              "       [1.00000000e+00, 1.09540450e-11],\n",
              "       [1.00000000e+00, 4.34810268e-08],\n",
              "       [1.03255892e-02, 9.89674389e-01],\n",
              "       [5.97653165e-02, 9.40234661e-01],\n",
              "       [1.00000000e+00, 2.27794961e-09],\n",
              "       [3.22567741e-03, 9.96774256e-01],\n",
              "       [9.97211635e-01, 2.78832950e-03],\n",
              "       [2.06227135e-03, 9.97937739e-01],\n",
              "       [9.99999046e-01, 9.31744125e-07],\n",
              "       [9.99838710e-01, 1.61243239e-04],\n",
              "       [9.99740779e-01, 2.59235385e-04],\n",
              "       [7.88814053e-02, 9.21118617e-01],\n",
              "       [9.99992251e-01, 7.79369384e-06],\n",
              "       [8.52031354e-03, 9.91479635e-01],\n",
              "       [9.99967337e-01, 3.26952795e-05],\n",
              "       [9.70274150e-01, 2.97258981e-02],\n",
              "       [1.98589754e-03, 9.98014092e-01],\n",
              "       [9.99609292e-01, 3.90699744e-04],\n",
              "       [2.56127685e-01, 7.43872344e-01],\n",
              "       [1.00000000e+00, 5.11069950e-15],\n",
              "       [4.70174290e-03, 9.95298326e-01],\n",
              "       [9.99999881e-01, 1.35763514e-07],\n",
              "       [9.97955441e-01, 2.04459322e-03],\n",
              "       [1.00000000e+00, 1.15493948e-09],\n",
              "       [4.28790087e-03, 9.95712161e-01],\n",
              "       [9.99969959e-01, 3.00480260e-05],\n",
              "       [8.56830925e-03, 9.91431713e-01],\n",
              "       [9.97886598e-01, 2.11339025e-03],\n",
              "       [9.14935395e-02, 9.08506453e-01],\n",
              "       [1.00000000e+00, 9.85131088e-09],\n",
              "       [3.30192968e-03, 9.96698141e-01],\n",
              "       [5.49765043e-02, 9.45023537e-01],\n",
              "       [3.52279376e-03, 9.96477187e-01],\n",
              "       [9.97176528e-01, 2.82349321e-03],\n",
              "       [9.99738753e-01, 2.61281501e-04],\n",
              "       [1.00000000e+00, 3.10103521e-09],\n",
              "       [7.49647617e-03, 9.92503524e-01],\n",
              "       [9.98050690e-01, 1.94929249e-03],\n",
              "       [1.29729854e-02, 9.87026989e-01],\n",
              "       [9.99998927e-01, 1.03733510e-06],\n",
              "       [1.78100390e-03, 9.98218954e-01],\n",
              "       [9.99848247e-01, 1.51775355e-04],\n",
              "       [2.56231474e-03, 9.97437716e-01],\n",
              "       [5.32768760e-03, 9.94672358e-01],\n",
              "       [9.99920845e-01, 7.91300336e-05],\n",
              "       [9.49300975e-02, 9.05069947e-01],\n",
              "       [9.99988794e-01, 1.12117859e-05],\n",
              "       [1.00000000e+00, 1.95525528e-15],\n",
              "       [7.45364726e-02, 9.25463557e-01],\n",
              "       [9.87963676e-01, 1.20363254e-02],\n",
              "       [6.13006018e-03, 9.93869901e-01],\n",
              "       [9.91685510e-01, 8.31456017e-03],\n",
              "       [6.06407062e-04, 9.99393582e-01],\n",
              "       [9.99998808e-01, 1.18096045e-06],\n",
              "       [9.99943137e-01, 5.68435898e-05],\n",
              "       [1.00000000e+00, 1.76792608e-11],\n",
              "       [9.98128355e-01, 1.87162717e-03],\n",
              "       [1.54497446e-02, 9.84550178e-01],\n",
              "       [9.99873757e-01, 1.26171377e-04],\n",
              "       [9.99589980e-01, 4.09984641e-04],\n",
              "       [1.68559793e-03, 9.98314381e-01],\n",
              "       [7.49059379e-01, 2.50940651e-01],\n",
              "       [9.98082399e-01, 1.91756466e-03],\n",
              "       [2.11582445e-02, 9.78841722e-01],\n",
              "       [9.96369123e-01, 3.63085093e-03],\n",
              "       [1.61007990e-03, 9.98389959e-01],\n",
              "       [9.99469340e-01, 5.30702004e-04],\n",
              "       [9.99798477e-01, 2.01588409e-04],\n",
              "       [2.42911861e-03, 9.97570813e-01],\n",
              "       [9.99823749e-01, 1.76329879e-04],\n",
              "       [1.00000000e+00, 3.58550618e-18],\n",
              "       [1.20541984e-02, 9.87945795e-01],\n",
              "       [9.99774277e-01, 2.25710770e-04],\n",
              "       [6.87338703e-04, 9.99312639e-01],\n",
              "       [1.00000000e+00, 4.18581369e-16],\n",
              "       [9.99865294e-01, 1.34659902e-04],\n",
              "       [1.23125575e-02, 9.87687409e-01],\n",
              "       [5.03219152e-03, 9.94967759e-01],\n",
              "       [2.38113012e-03, 9.97618854e-01],\n",
              "       [4.02850425e-03, 9.95971501e-01],\n",
              "       [9.99487519e-01, 5.12463506e-04],\n",
              "       [9.96894240e-01, 3.10569210e-03],\n",
              "       [1.36579014e-02, 9.86342132e-01],\n",
              "       [1.00000000e+00, 3.78725638e-08],\n",
              "       [1.00000000e+00, 2.58719091e-08],\n",
              "       [1.00000000e+00, 2.21955065e-10],\n",
              "       [5.21573983e-03, 9.94784296e-01],\n",
              "       [4.30919696e-03, 9.95690763e-01],\n",
              "       [9.98460293e-01, 1.53971056e-03],\n",
              "       [1.73964854e-02, 9.82603490e-01],\n",
              "       [9.99752223e-01, 2.47755059e-04],\n",
              "       [7.27332616e-03, 9.92726684e-01],\n",
              "       [1.00000000e+00, 8.29766034e-09],\n",
              "       [9.53788042e-01, 4.62119281e-02],\n",
              "       [4.99700457e-02, 9.50029969e-01],\n",
              "       [2.25372195e-01, 7.74627805e-01],\n",
              "       [2.56533967e-03, 9.97434676e-01],\n",
              "       [9.99998689e-01, 1.31801312e-06],\n",
              "       [1.00000000e+00, 2.53042726e-12],\n",
              "       [5.22379339e-01, 4.77620602e-01],\n",
              "       [9.85766530e-01, 1.42334811e-02],\n",
              "       [9.99991417e-01, 8.60481214e-06],\n",
              "       [7.39935189e-02, 9.26006436e-01],\n",
              "       [9.99731958e-01, 2.67983356e-04]], dtype=float32)"
            ]
          },
          "metadata": {
            "tags": []
          },
          "execution_count": 22
        }
      ]
    },
    {
      "cell_type": "code",
      "metadata": {
        "id": "EHvAiVZd0GTD",
        "colab_type": "code",
        "colab": {}
      },
      "source": [
        "\n",
        "import numpy as np\n",
        "y_pred = np.argmax(y_pred, axis=1)"
      ],
      "execution_count": null,
      "outputs": []
    },
    {
      "cell_type": "code",
      "metadata": {
        "id": "gUjdAE140KcG",
        "colab_type": "code",
        "colab": {
          "base_uri": "https://localhost:8080/",
          "height": 136
        },
        "outputId": "5684595b-1050-4cef-9249-1633a36e2988"
      },
      "source": [
        "y_pred"
      ],
      "execution_count": null,
      "outputs": [
        {
          "output_type": "execute_result",
          "data": {
            "text/plain": [
              "array([0, 1, 1, 0, 0, 0, 1, 0, 1, 0, 0, 1, 1, 1, 1, 1, 1, 0, 0, 0, 0, 0,\n",
              "       0, 1, 1, 1, 1, 0, 0, 0, 0, 0, 1, 1, 0, 1, 0, 1, 0, 0, 0, 1, 0, 1,\n",
              "       0, 0, 1, 0, 1, 0, 1, 0, 0, 0, 1, 0, 1, 0, 1, 0, 1, 1, 1, 0, 0, 0,\n",
              "       1, 0, 1, 0, 1, 0, 1, 1, 0, 1, 0, 0, 1, 0, 1, 0, 1, 0, 0, 0, 0, 1,\n",
              "       0, 0, 1, 0, 0, 1, 0, 1, 0, 0, 1, 0, 0, 1, 0, 1, 0, 0, 1, 1, 1, 1,\n",
              "       0, 0, 1, 0, 0, 0, 1, 1, 0, 1, 0, 1, 0, 0, 1, 1, 1, 0, 0, 0, 0, 0,\n",
              "       1, 0])"
            ]
          },
          "metadata": {
            "tags": []
          },
          "execution_count": 24
        }
      ]
    },
    {
      "cell_type": "code",
      "metadata": {
        "id": "umzE1_z90N_h",
        "colab_type": "code",
        "colab": {}
      },
      "source": [
        "from tensorflow.keras.models import load_model\n",
        "from tensorflow.keras.preprocessing import image"
      ],
      "execution_count": null,
      "outputs": []
    },
    {
      "cell_type": "code",
      "metadata": {
        "id": "R3hR30u10Z6z",
        "colab_type": "code",
        "colab": {}
      },
      "source": [
        "model=load_model('model_vgg19.h5')"
      ],
      "execution_count": null,
      "outputs": []
    },
    {
      "cell_type": "code",
      "metadata": {
        "id": "IY6df2_i0cnD",
        "colab_type": "code",
        "colab": {}
      },
      "source": [
        "img=image.load_img('/content/drive/My Drive/Dataset/Test/Uninfected/2.png',target_size=(224,224))"
      ],
      "execution_count": null,
      "outputs": []
    },
    {
      "cell_type": "code",
      "metadata": {
        "id": "HXELbBsl1J7N",
        "colab_type": "code",
        "colab": {
          "base_uri": "https://localhost:8080/",
          "height": 850
        },
        "outputId": "4504ef64-0363-4315-904f-ea46944296d2"
      },
      "source": [
        "x=image.img_to_array(img)\n",
        "x"
      ],
      "execution_count": null,
      "outputs": [
        {
          "output_type": "execute_result",
          "data": {
            "text/plain": [
              "array([[[0., 0., 0.],\n",
              "        [0., 0., 0.],\n",
              "        [0., 0., 0.],\n",
              "        ...,\n",
              "        [0., 0., 0.],\n",
              "        [0., 0., 0.],\n",
              "        [0., 0., 0.]],\n",
              "\n",
              "       [[0., 0., 0.],\n",
              "        [0., 0., 0.],\n",
              "        [0., 0., 0.],\n",
              "        ...,\n",
              "        [0., 0., 0.],\n",
              "        [0., 0., 0.],\n",
              "        [0., 0., 0.]],\n",
              "\n",
              "       [[0., 0., 0.],\n",
              "        [0., 0., 0.],\n",
              "        [0., 0., 0.],\n",
              "        ...,\n",
              "        [0., 0., 0.],\n",
              "        [0., 0., 0.],\n",
              "        [0., 0., 0.]],\n",
              "\n",
              "       ...,\n",
              "\n",
              "       [[0., 0., 0.],\n",
              "        [0., 0., 0.],\n",
              "        [0., 0., 0.],\n",
              "        ...,\n",
              "        [0., 0., 0.],\n",
              "        [0., 0., 0.],\n",
              "        [0., 0., 0.]],\n",
              "\n",
              "       [[0., 0., 0.],\n",
              "        [0., 0., 0.],\n",
              "        [0., 0., 0.],\n",
              "        ...,\n",
              "        [0., 0., 0.],\n",
              "        [0., 0., 0.],\n",
              "        [0., 0., 0.]],\n",
              "\n",
              "       [[0., 0., 0.],\n",
              "        [0., 0., 0.],\n",
              "        [0., 0., 0.],\n",
              "        ...,\n",
              "        [0., 0., 0.],\n",
              "        [0., 0., 0.],\n",
              "        [0., 0., 0.]]], dtype=float32)"
            ]
          },
          "metadata": {
            "tags": []
          },
          "execution_count": 28
        }
      ]
    },
    {
      "cell_type": "code",
      "metadata": {
        "id": "cFbNo9fJ1Miz",
        "colab_type": "code",
        "colab": {
          "base_uri": "https://localhost:8080/",
          "height": 34
        },
        "outputId": "abbbe8da-dc17-4d6e-b1de-d168a276691e"
      },
      "source": [
        "x.shape"
      ],
      "execution_count": null,
      "outputs": [
        {
          "output_type": "execute_result",
          "data": {
            "text/plain": [
              "(224, 224, 3)"
            ]
          },
          "metadata": {
            "tags": []
          },
          "execution_count": 29
        }
      ]
    },
    {
      "cell_type": "code",
      "metadata": {
        "id": "DfIJenvv1RQG",
        "colab_type": "code",
        "colab": {}
      },
      "source": [
        "x=x/255"
      ],
      "execution_count": null,
      "outputs": []
    },
    {
      "cell_type": "code",
      "metadata": {
        "id": "yakrPUcc1TJ2",
        "colab_type": "code",
        "colab": {
          "base_uri": "https://localhost:8080/",
          "height": 34
        },
        "outputId": "8152bd90-63ae-4d96-8356-0239277bde58"
      },
      "source": [
        "x=np.expand_dims(x,axis=0)\n",
        "img_data=preprocess_input(x)\n",
        "img_data.shape"
      ],
      "execution_count": null,
      "outputs": [
        {
          "output_type": "execute_result",
          "data": {
            "text/plain": [
              "(1, 224, 224, 3)"
            ]
          },
          "metadata": {
            "tags": []
          },
          "execution_count": 31
        }
      ]
    },
    {
      "cell_type": "code",
      "metadata": {
        "id": "pNWNZsFi1WHZ",
        "colab_type": "code",
        "colab": {
          "base_uri": "https://localhost:8080/",
          "height": 34
        },
        "outputId": "f6548884-bf97-4b9b-af15-186e425e0056"
      },
      "source": [
        "model.predict(img_data)"
      ],
      "execution_count": null,
      "outputs": [
        {
          "output_type": "execute_result",
          "data": {
            "text/plain": [
              "array([[0., 1.]], dtype=float32)"
            ]
          },
          "metadata": {
            "tags": []
          },
          "execution_count": 32
        }
      ]
    },
    {
      "cell_type": "code",
      "metadata": {
        "id": "GUlihokM1YKU",
        "colab_type": "code",
        "colab": {}
      },
      "source": [
        "a=np.argmax(model.predict(img_data), axis=1)"
      ],
      "execution_count": null,
      "outputs": []
    },
    {
      "cell_type": "code",
      "metadata": {
        "id": "U1z9tptn1b6L",
        "colab_type": "code",
        "colab": {
          "base_uri": "https://localhost:8080/",
          "height": 34
        },
        "outputId": "f7a9beb9-9e73-4cf2-dac6-1046b49bcef0"
      },
      "source": [
        "if(a==1):\n",
        "    print(\"Uninfected\")\n",
        "else:\n",
        "    print(\"Infected\")"
      ],
      "execution_count": null,
      "outputs": [
        {
          "output_type": "stream",
          "text": [
            "Uninfected\n"
          ],
          "name": "stdout"
        }
      ]
    },
    {
      "cell_type": "code",
      "metadata": {
        "id": "5FQtuKVu1e5y",
        "colab_type": "code",
        "colab": {}
      },
      "source": [
        ""
      ],
      "execution_count": null,
      "outputs": []
    }
  ]
}